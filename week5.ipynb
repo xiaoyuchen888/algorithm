{
 "cells": [
  {
   "attachments": {},
   "cell_type": "markdown",
   "metadata": {},
   "source": [
    "# Challenge 1"
   ]
  },
  {
   "cell_type": "code",
   "execution_count": 304,
   "metadata": {},
   "outputs": [],
   "source": [
    "class Graph:\n",
    "    def __init__(self):\n",
    "        self.adjacencyList={}\n",
    "\n",
    "    def addVertex(self,vertex):\n",
    "        if vertex not in self.adjacencyList:\n",
    "            self.adjacencyList[vertex]=[]\n",
    "\n",
    "    def addEdge(self,v1,v2):\n",
    "        self.adjacencyList[v1].append(v2)\n",
    "        self.adjacencyList[v2].append(v1)     \n",
    "\n",
    "    def removeEdge(self,v1,v2):\n",
    "        self.adjacencyList[v1].remove(v2)\n",
    "        self.adjacencyList[v2].remove(v1)\n",
    "    \n",
    "    def removeVertex(self,vertex):\n",
    "        while len(self.adjacencyList[vertex]):\n",
    "            adjacencyVertex = self.adjacencyList[vertex].pop()\n",
    "            self.adjacencyList[adjacencyVertex].remove(vertex)\n",
    "\n",
    "        self.adjacencyList.pop(vertex)\n",
    "\n",
    "    def depthFirstRecursive(self,start,return_result=False):\n",
    "        result = []\n",
    "        visited = {}\n",
    "        def dfs(vertex):\n",
    "            if not vertex:\n",
    "                return None\n",
    "            visited[vertex] = True\n",
    "\n",
    "            result.append(vertex)\n",
    "            for neighbor in self.adjacencyList[vertex]:\n",
    "                print(neighbor)\n",
    "                if neighbor not in visited:\n",
    "                    #print(neighbor)\n",
    "                    return dfs(neighbor)\n",
    "        dfs(start) \n",
    "\n",
    "        odd_result = [x for x in result if int(x) % 2 == 1]\n",
    "        \n",
    "        if return_result:\n",
    "            return result\n",
    "        else:\n",
    "            return odd_result\n",
    "\n",
    "    def breadthFirstIterative(self,start):\n",
    "        queue = [start]\n",
    "        result = []\n",
    "        visited ={}\n",
    "\n",
    "        visited[start] = True\n",
    "\n",
    "        while len(queue):\n",
    "            currentVertex = queue.pop(0)\n",
    "            result.append(currentVertex)\n",
    "\n",
    "            for neighbor in self.adjacencyList[currentVertex]:\n",
    "                if neighbor not in visited:\n",
    "                    visited[neighbor] = True\n",
    "                    queue.append(neighbor)\n",
    "        \n",
    "        #result = [x for x in result if int(x) % 2 == 0]\n",
    "\n",
    "        return result\n",
    "    \n",
    "    def depthFirstTraversal(self,V,adj):\n",
    "        for vertex in range(V):\n",
    "            self.adjacencyList[vertex] = adj[vertex]\n",
    "            \n",
    "        #self.depthFirstRecursive(0,return_result=True)\n",
    "        "
   ]
  },
  {
   "cell_type": "code",
   "execution_count": 305,
   "metadata": {},
   "outputs": [],
   "source": [
    "g = Graph()\n",
    "g.addVertex(\"1\")\n",
    "g.addVertex(\"2\")\n",
    "g.addVertex(\"3\")\n",
    "g.addVertex(\"4\")\n",
    "g.addVertex(\"5\")\n",
    "g.addVertex(\"6\")\n",
    "\n",
    "g.addEdge(\"1\",\"2\")\n",
    "g.addEdge(\"1\",\"3\")\n",
    "g.addEdge(\"2\",\"4\")\n",
    "g.addEdge(\"3\",\"5\")\n",
    "g.addEdge(\"4\",\"5\")\n",
    "g.addEdge(\"4\",\"6\")\n",
    "g.addEdge(\"5\",\"6\")"
   ]
  },
  {
   "cell_type": "code",
   "execution_count": 306,
   "metadata": {},
   "outputs": [
    {
     "data": {
      "text/plain": [
       "{'1': ['2', '3'],\n",
       " '2': ['1', '4'],\n",
       " '3': ['1', '5'],\n",
       " '4': ['2', '5', '6'],\n",
       " '5': ['3', '4', '6'],\n",
       " '6': ['4', '5']}"
      ]
     },
     "execution_count": 306,
     "metadata": {},
     "output_type": "execute_result"
    }
   ],
   "source": [
    "g.adjacencyList"
   ]
  },
  {
   "cell_type": "code",
   "execution_count": 307,
   "metadata": {},
   "outputs": [
    {
     "name": "stdout",
     "output_type": "stream",
     "text": [
      "2\n",
      "1\n",
      "4\n",
      "2\n",
      "5\n",
      "3\n",
      "1\n",
      "5\n"
     ]
    },
    {
     "data": {
      "text/plain": [
       "['1', '2', '4', '5', '3']"
      ]
     },
     "execution_count": 307,
     "metadata": {},
     "output_type": "execute_result"
    }
   ],
   "source": [
    "g.depthFirstRecursive(\"1\",return_result=True)"
   ]
  },
  {
   "cell_type": "code",
   "execution_count": 308,
   "metadata": {},
   "outputs": [
    {
     "data": {
      "text/plain": [
       "['1', '2', '3', '4', '5', '6']"
      ]
     },
     "execution_count": 308,
     "metadata": {},
     "output_type": "execute_result"
    }
   ],
   "source": [
    "g.breadthFirstIterative(\"1\")"
   ]
  },
  {
   "cell_type": "code",
   "execution_count": 309,
   "metadata": {},
   "outputs": [],
   "source": [
    "graph = Graph()"
   ]
  },
  {
   "cell_type": "code",
   "execution_count": 310,
   "metadata": {},
   "outputs": [],
   "source": [
    "graph.depthFirstTraversal(5,[[2,3,1],[0],[0,4],[0],[2]])"
   ]
  },
  {
   "cell_type": "code",
   "execution_count": 311,
   "metadata": {},
   "outputs": [
    {
     "data": {
      "text/plain": [
       "{0: [2, 3, 1], 1: [0], 2: [0, 4], 3: [0], 4: [2]}"
      ]
     },
     "execution_count": 311,
     "metadata": {},
     "output_type": "execute_result"
    }
   ],
   "source": [
    "graph.adjacencyList"
   ]
  },
  {
   "cell_type": "code",
   "execution_count": 312,
   "metadata": {},
   "outputs": [
    {
     "data": {
      "text/plain": [
       "[]"
      ]
     },
     "execution_count": 312,
     "metadata": {},
     "output_type": "execute_result"
    }
   ],
   "source": [
    "graph.depthFirstRecursive(0)"
   ]
  },
  {
   "attachments": {},
   "cell_type": "markdown",
   "metadata": {},
   "source": [
    "# Challenge 3"
   ]
  },
  {
   "cell_type": "code",
   "execution_count": null,
   "metadata": {},
   "outputs": [],
   "source": []
  }
 ],
 "metadata": {
  "kernelspec": {
   "display_name": "Python 3",
   "language": "python",
   "name": "python3"
  },
  "language_info": {
   "codemirror_mode": {
    "name": "ipython",
    "version": 3
   },
   "file_extension": ".py",
   "mimetype": "text/x-python",
   "name": "python",
   "nbconvert_exporter": "python",
   "pygments_lexer": "ipython3",
   "version": "3.11.1"
  },
  "orig_nbformat": 4,
  "vscode": {
   "interpreter": {
    "hash": "aee8b7b246df8f9039afb4144a1f6fd8d2ca17a180786b69acc140d282b71a49"
   }
  }
 },
 "nbformat": 4,
 "nbformat_minor": 2
}
