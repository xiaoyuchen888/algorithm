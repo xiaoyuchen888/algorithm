{
 "cells": [
  {
   "cell_type": "markdown",
   "metadata": {},
   "source": [
    "# Challenge 1"
   ]
  },
  {
   "attachments": {},
   "cell_type": "markdown",
   "metadata": {},
   "source": [
    "1. Binary Search\n",
    "2. Max Binary Heap\n",
    "3. Min Binary Heap"
   ]
  },
  {
   "cell_type": "markdown",
   "metadata": {},
   "source": [
    "# Challlenge 2"
   ]
  },
  {
   "cell_type": "code",
   "execution_count": 3,
   "metadata": {},
   "outputs": [],
   "source": [
    "import math"
   ]
  },
  {
   "cell_type": "code",
   "execution_count": 15,
   "metadata": {},
   "outputs": [],
   "source": [
    "class MaxBinaryHeap():\n",
    "    def __init__(self): \n",
    "        self.values = []\n",
    "\n",
    "    def insert(self,element):\n",
    "        self.values.append(element)\n",
    "        self.bubbleUp()\n",
    "    \n",
    "    def bubbleUp(self):\n",
    "        idx = len(self.values)-1\n",
    "        element = self.values[idx]\n",
    "\n",
    "        while idx>0:\n",
    "            parentIdx = math.floor((idx-1)/2)\n",
    "            parent = self.values[parentIdx]\n",
    "            \n",
    "            if element <= parent:\n",
    "                break\n",
    "            \n",
    "            self.values[parentIdx] = element\n",
    "            self.values[idx] = parent\n",
    "            idx = parentIdx\n",
    "    \n",
    "    def extractMax(self):\n",
    "        max = self.values[0]\n",
    "        end = self.values.pop()\n",
    "\n",
    "        if len(self.values):\n",
    "            self.values[0]= end \n",
    "            self.sinkDown()\n",
    "        \n",
    "        return max\n",
    "\n",
    "    def sinkDown(self):\n",
    "        idx = 0\n",
    "        length = len(self.values)\n",
    "        element = self.values[0]\n",
    "    \n",
    "        while True:\n",
    "            leftChildIdx = 2*idx +1\n",
    "            rightChildIdx = 2*idx +2\n",
    "\n",
    "            swap = None\n",
    "\n",
    "            if leftChildIdx < length:\n",
    "                leftChild = self.values[leftChildIdx]\n",
    "                if leftChild > element:\n",
    "                    swap = leftChildIdx\n",
    "            \n",
    "            if rightChildIdx < length:\n",
    "                rightChild = self.values[rightChildIdx]\n",
    "                if (not swap and rightChild > element) or (swap and rightChild > leftChild):\n",
    "                    swap = rightChildIdx\n",
    "            \n",
    "            if not swap:\n",
    "                break\n",
    "            \n",
    "            self.values[idx] = self.values[swap]\n",
    "            self.values[swap] = element\n",
    "\n",
    "            idx = swap\n",
    "\n",
    "    def maxValue(self):\n",
    "        return self.values[0]\n",
    "    "
   ]
  },
  {
   "cell_type": "code",
   "execution_count": 20,
   "metadata": {},
   "outputs": [
    {
     "data": {
      "text/plain": [
       "[6, 5, 3, 4, 2, 1]"
      ]
     },
     "execution_count": 20,
     "metadata": {},
     "output_type": "execute_result"
    }
   ],
   "source": [
    "maxheaptree = MaxBinaryHeap()\n",
    "maxheaptree.insert(5)\n",
    "maxheaptree.insert(6)\n",
    "maxheaptree.insert(3)\n",
    "maxheaptree.insert(4)\n",
    "maxheaptree.insert(2)\n",
    "maxheaptree.insert(1)\n",
    "maxheaptree.values\n"
   ]
  },
  {
   "cell_type": "code",
   "execution_count": 21,
   "metadata": {},
   "outputs": [
    {
     "data": {
      "text/plain": [
       "6"
      ]
     },
     "execution_count": 21,
     "metadata": {},
     "output_type": "execute_result"
    }
   ],
   "source": [
    "maxheaptree.extractMax()"
   ]
  },
  {
   "cell_type": "code",
   "execution_count": 22,
   "metadata": {},
   "outputs": [
    {
     "data": {
      "text/plain": [
       "[5, 4, 3, 1, 2]"
      ]
     },
     "execution_count": 22,
     "metadata": {},
     "output_type": "execute_result"
    }
   ],
   "source": [
    "maxheaptree.values"
   ]
  },
  {
   "cell_type": "code",
   "execution_count": 29,
   "metadata": {},
   "outputs": [
    {
     "data": {
      "text/plain": [
       "5"
      ]
     },
     "execution_count": 29,
     "metadata": {},
     "output_type": "execute_result"
    }
   ],
   "source": [
    "maxheaptree.maxValue()"
   ]
  },
  {
   "cell_type": "code",
   "execution_count": 35,
   "metadata": {},
   "outputs": [],
   "source": [
    "class MinBinaryHeap():\n",
    "    def __init__(self): \n",
    "        self.values = []\n",
    "\n",
    "    def insert(self,element):\n",
    "        self.values.append(element)\n",
    "        self.bubbleUp()\n",
    "    \n",
    "    def bubbleUp(self):\n",
    "        idx = len(self.values)-1\n",
    "        element = self.values[idx]\n",
    "\n",
    "        while idx>0:\n",
    "            parentIdx = math.floor((idx-1)/2)\n",
    "            parent = self.values[parentIdx]\n",
    "            \n",
    "            if element >= parent:\n",
    "                break\n",
    "            \n",
    "            self.values[parentIdx] = element\n",
    "            self.values[Idx] = parent\n",
    "            idx = parentIdx\n",
    "    \n",
    "    def extractMix(self):\n",
    "        mix = self.values[0]\n",
    "        end = self.values.pop()\n",
    "\n",
    "        if len(self.values):\n",
    "            self.values[0]= end \n",
    "            self.sinkDown()\n",
    "        \n",
    "        return mix\n",
    "\n",
    "    def sinkDown(self):\n",
    "        idx = 0\n",
    "        length = len(self.values)\n",
    "        element = self.values[0]\n",
    "    \n",
    "        while True:\n",
    "            leftChildIdx = 2*idx +1\n",
    "            rightChildIdx = 2*idx +2\n",
    "\n",
    "            swap = None\n",
    "\n",
    "            if leftChildIdx < length:\n",
    "                leftChild = self.values[leftChildIdx]\n",
    "                if leftChild < element:\n",
    "                    swap = leftChildIdx\n",
    "            \n",
    "            if rightChildIdx < length:\n",
    "                rightChild = self.values[rightChildIdx]\n",
    "                if (not swap and rightChild < element) or (swap and rightChild < leftChild):\n",
    "                    swap = rightChildIdx\n",
    "            \n",
    "            if not swap:\n",
    "                break\n",
    "            \n",
    "            self.values[idx] = self.values[swap]\n",
    "            self.values[swap] = element\n",
    "\n",
    "            idx = swap\n",
    "\n",
    "    def minValue(self):\n",
    "        return self.values[0]"
   ]
  },
  {
   "cell_type": "code",
   "execution_count": 36,
   "metadata": {},
   "outputs": [
    {
     "data": {
      "text/plain": [
       "[1, 3, 2, 4, 6, 5]"
      ]
     },
     "execution_count": 36,
     "metadata": {},
     "output_type": "execute_result"
    }
   ],
   "source": [
    "minheaptree = MinBinaryHeap()\n",
    "minheaptree.insert(1)\n",
    "minheaptree.insert(3)\n",
    "minheaptree.insert(2)\n",
    "minheaptree.insert(4)\n",
    "minheaptree.insert(6)\n",
    "minheaptree.insert(5)\n",
    "minheaptree.values"
   ]
  },
  {
   "cell_type": "code",
   "execution_count": 37,
   "metadata": {},
   "outputs": [
    {
     "data": {
      "text/plain": [
       "1"
      ]
     },
     "execution_count": 37,
     "metadata": {},
     "output_type": "execute_result"
    }
   ],
   "source": [
    "minheaptree.extractMix()"
   ]
  },
  {
   "cell_type": "code",
   "execution_count": 38,
   "metadata": {},
   "outputs": [
    {
     "data": {
      "text/plain": [
       "[2, 3, 5, 4, 6]"
      ]
     },
     "execution_count": 38,
     "metadata": {},
     "output_type": "execute_result"
    }
   ],
   "source": [
    "minheaptree.values"
   ]
  },
  {
   "cell_type": "code",
   "execution_count": 39,
   "metadata": {},
   "outputs": [
    {
     "data": {
      "text/plain": [
       "2"
      ]
     },
     "execution_count": 39,
     "metadata": {},
     "output_type": "execute_result"
    }
   ],
   "source": [
    "minheaptree.minValue()"
   ]
  },
  {
   "cell_type": "markdown",
   "metadata": {},
   "source": [
    "# Challenge 4"
   ]
  },
  {
   "cell_type": "code",
   "execution_count": 67,
   "metadata": {},
   "outputs": [],
   "source": [
    "def isMaxHeap(heap):\n",
    "    idx = 0\n",
    "    element = heap.values[0]\n",
    "    length = len(heap.values)\n",
    "   \n",
    "    \n",
    "    while True:\n",
    "            leftChildIdx = 2*idx +1\n",
    "            rightChildIdx = 2*idx +2\n",
    "            element = heap.values[idx]\n",
    "            \n",
    "            if leftChildIdx < length:\n",
    "                leftChild = heap.values[leftChildIdx]\n",
    "                if leftChild < element:\n",
    "                    if rightChildIdx < length:\n",
    "                        rightChild = heap.values[rightChildIdx]\n",
    "                        if rightChild < element:\n",
    "                            idx += 1\n",
    "                        else: return False\n",
    "                    else: return True\n",
    "                else: return False\n",
    "            else: return True\n",
    "            \n",
    "                   "
   ]
  },
  {
   "cell_type": "code",
   "execution_count": 68,
   "metadata": {},
   "outputs": [
    {
     "data": {
      "text/plain": [
       "[5, 4, 3, 1, 2]"
      ]
     },
     "execution_count": 68,
     "metadata": {},
     "output_type": "execute_result"
    }
   ],
   "source": [
    "maxheaptree.values"
   ]
  },
  {
   "cell_type": "code",
   "execution_count": 99,
   "metadata": {},
   "outputs": [
    {
     "data": {
      "text/plain": [
       "True"
      ]
     },
     "execution_count": 99,
     "metadata": {},
     "output_type": "execute_result"
    }
   ],
   "source": [
    "isMaxHeap(maxheaptree)"
   ]
  },
  {
   "cell_type": "code",
   "execution_count": 100,
   "metadata": {},
   "outputs": [
    {
     "data": {
      "text/plain": [
       "False"
      ]
     },
     "execution_count": 100,
     "metadata": {},
     "output_type": "execute_result"
    }
   ],
   "source": [
    "isMaxHeap(minheaptree)"
   ]
  }
 ],
 "metadata": {
  "kernelspec": {
   "display_name": "Python 3 (ipykernel)",
   "language": "python",
   "name": "python3"
  },
  "language_info": {
   "codemirror_mode": {
    "name": "ipython",
    "version": 3
   },
   "file_extension": ".py",
   "mimetype": "text/x-python",
   "name": "python",
   "nbconvert_exporter": "python",
   "pygments_lexer": "ipython3",
   "version": "3.11.1"
  },
  "vscode": {
   "interpreter": {
    "hash": "aee8b7b246df8f9039afb4144a1f6fd8d2ca17a180786b69acc140d282b71a49"
   }
  }
 },
 "nbformat": 4,
 "nbformat_minor": 4
}
