{
 "cells": [
  {
   "attachments": {},
   "cell_type": "markdown",
   "metadata": {},
   "source": [
    "# Challenge 2\n",
    "Edges: Connect two nodes together      \n",
    "Vertices: The objects that are connected together in a graph by edges."
   ]
  },
  {
   "attachments": {},
   "cell_type": "markdown",
   "metadata": {},
   "source": [
    "# Challenge 1\n",
    "Graph 1: undirected-unweighted      \n",
    "Graph 2: undirected-weighted       \n",
    "Graph 3: directed-weighted         \n",
    "Graph 4: directed-unweighted        "
   ]
  },
  {
   "attachments": {},
   "cell_type": "markdown",
   "metadata": {},
   "source": [
    "# Challenge 3"
   ]
  },
  {
   "cell_type": "code",
   "execution_count": 40,
   "metadata": {},
   "outputs": [],
   "source": [
    "class Graph:\n",
    "    def __init__(self):\n",
    "        self.adjacencyList={}\n",
    "\n",
    "    def addVertex(self,vertex):\n",
    "        if vertex not in self.adjacencyList:\n",
    "            self.adjacencyList[vertex]=[]\n",
    "\n",
    "    def addEdge(self,v1,v2):\n",
    "        self.adjacencyList[v1].append(v2)\n",
    "        self.adjacencyList[v2].append(v1)     \n",
    "\n",
    "    def removeEdge(self,v1,v2):\n",
    "        self.adjacencyList[v1].remove(v2)\n",
    "        self.adjacencyList[v2].remove(v1)\n",
    "    \n",
    "    def removeVertex(self,vertex):\n",
    "        while len(self.adjacencyList[vertex]):\n",
    "            adjacencyVertex = self.adjacencyList[vertex].pop()\n",
    "            self.adjacencyList[adjacencyVertex].remove(vertex)\n",
    "\n",
    "        self.adjacencyList.pop(vertex)\n",
    "\n"
   ]
  },
  {
   "cell_type": "code",
   "execution_count": 41,
   "metadata": {},
   "outputs": [
    {
     "data": {
      "text/plain": [
       "{'Tom Brady': ['Lebron James', 'Tony Kim'],\n",
       " 'Tony Kim': ['Tom Brady', 'Patrick Mahomes', 'Lebron James'],\n",
       " 'Patrick Mahomes': ['Tony Kim', 'Lebron James'],\n",
       " 'Lebron James': ['Tom Brady', 'Tony Kim', 'Patrick Mahomes']}"
      ]
     },
     "execution_count": 41,
     "metadata": {},
     "output_type": "execute_result"
    }
   ],
   "source": [
    "graph = Graph()\n",
    "graph.addVertex(\"Tom Brady\")\n",
    "graph.addVertex(\"Tony Kim\")\n",
    "graph.addVertex(\"Patrick Mahomes\")\n",
    "graph.addVertex(\"Lebron James\")\n",
    "graph.addEdge(\"Tom Brady\",\"Lebron James\")\n",
    "graph.addEdge(\"Tom Brady\",\"Tony Kim\")\n",
    "graph.addEdge(\"Tony Kim\",\"Patrick Mahomes\")\n",
    "graph.addEdge(\"Tony Kim\",\"Lebron James\")\n",
    "graph.addEdge(\"Patrick Mahomes\",\"Lebron James\")\n",
    "graph.adjacencyList"
   ]
  },
  {
   "cell_type": "code",
   "execution_count": 42,
   "metadata": {},
   "outputs": [],
   "source": [
    "graph.removeVertex('Lebron James')\n"
   ]
  },
  {
   "cell_type": "code",
   "execution_count": 43,
   "metadata": {},
   "outputs": [
    {
     "data": {
      "text/plain": [
       "{'Tom Brady': ['Tony Kim'],\n",
       " 'Tony Kim': ['Tom Brady', 'Patrick Mahomes'],\n",
       " 'Patrick Mahomes': ['Tony Kim']}"
      ]
     },
     "execution_count": 43,
     "metadata": {},
     "output_type": "execute_result"
    }
   ],
   "source": [
    "graph.adjacencyList"
   ]
  }
 ],
 "metadata": {
  "kernelspec": {
   "display_name": "Python 3",
   "language": "python",
   "name": "python3"
  },
  "language_info": {
   "codemirror_mode": {
    "name": "ipython",
    "version": 3
   },
   "file_extension": ".py",
   "mimetype": "text/x-python",
   "name": "python",
   "nbconvert_exporter": "python",
   "pygments_lexer": "ipython3",
   "version": "3.11.1"
  },
  "orig_nbformat": 4,
  "vscode": {
   "interpreter": {
    "hash": "aee8b7b246df8f9039afb4144a1f6fd8d2ca17a180786b69acc140d282b71a49"
   }
  }
 },
 "nbformat": 4,
 "nbformat_minor": 2
}
