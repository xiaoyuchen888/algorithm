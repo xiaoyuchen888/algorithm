{
 "cells": [
  {
   "attachments": {},
   "cell_type": "markdown",
   "metadata": {},
   "source": [
    "# Queues"
   ]
  },
  {
   "attachments": {},
   "cell_type": "markdown",
   "metadata": {},
   "source": [
    "1.![Alt text](2023-01-20-20-33-36.png)"
   ]
  },
  {
   "cell_type": "code",
   "execution_count": 1,
   "metadata": {},
   "outputs": [],
   "source": [
    "#2.\n",
    "class Node:\n",
    "    def __init__(self,value):\n",
    "        self.value=value\n",
    "        self.next=None\n",
    "\n",
    "class Queue:\n",
    "    def __init__(self):\n",
    "        self.first=None\n",
    "        self.last=None\n",
    "        self.size=0\n",
    "\n",
    "    def enqueue(self,val):\n",
    "        newnode=Node(val)\n",
    "        if not self.first :\n",
    "            self.first=newnode\n",
    "            self.last=newnode\n",
    "        else:\n",
    "            self.last.next=newnode\n",
    "            self.last=newnode\n",
    "        self.size+=1\n",
    "        return self\n",
    "\n",
    "    def dequeue(self):\n",
    "        \n",
    "        if not self.first:\n",
    "            return None\n",
    "        temp = self.first\n",
    "        if(self.size == 1):\n",
    "            self.last = None\n",
    "        self.first = self.first.next\n",
    "        self.size -=1\n",
    "        return temp.value \n",
    "    \n",
    "    def peek(self):\n",
    "        \n",
    "        if not self.first:\n",
    "            return None\n",
    "        else:\n",
    "            return self.first.value\n",
    "    \n",
    "    def isEmpty(self):\n",
    "        \n",
    "        if not self.first:\n",
    "            return True\n",
    "        else:\n",
    "            return False\n",
    "    \n",
    "    def printQueue(self):\n",
    "        \n",
    "        current = self.first\n",
    "        if not self.first:\n",
    "            return None\n",
    "        else:\n",
    "            while current:\n",
    "                print(current.value)\n",
    "                current=current.next\n",
    "            \n",
    "        "
   ]
  },
  {
   "attachments": {},
   "cell_type": "markdown",
   "metadata": {},
   "source": [
    "# Stack"
   ]
  },
  {
   "attachments": {},
   "cell_type": "markdown",
   "metadata": {},
   "source": [
    "1.![Alt text](Untitled%20Diagram.drawio(2).png)"
   ]
  },
  {
   "cell_type": "code",
   "execution_count": 160,
   "metadata": {},
   "outputs": [],
   "source": [
    "# 2.\n",
    "\n",
    "class Node:\n",
    "    def __init__(self,value):\n",
    "        self.value=value\n",
    "        self.next=None\n",
    "\n",
    "class Stack:\n",
    "    def __init__(self):\n",
    "        self.first=None\n",
    "        self.last=None\n",
    "        self.size=0\n",
    "    \n",
    "    def push(self,val):\n",
    "        newnode=Node(val)\n",
    "        if not self.first:\n",
    "            self.first=newnode\n",
    "            self.last=newnode\n",
    "        else:\n",
    "            temp=self.first\n",
    "            self.first=newnode\n",
    "            self.first.next=temp\n",
    "        self.size+=1\n",
    "        return self\n",
    "\n",
    "    def pop(self):\n",
    "        if not self.first:\n",
    "            return None\n",
    "        temp=self.first\n",
    "        if self.size == 1:\n",
    "            self.last = None\n",
    "        self.first=self.first.next\n",
    "        self.size-=1\n",
    "        return temp.value\n",
    "\n",
    "    def peek(self):\n",
    "        if not self.first:\n",
    "            return None\n",
    "        else:\n",
    "            return self.first.value\n",
    "\n",
    "    def isEmpty(self):\n",
    "        if not self.first:\n",
    "            return True\n",
    "        else:\n",
    "            return False\n",
    "\n",
    "    def printStack(self):\n",
    "        current = self.first\n",
    "        if not self.first:\n",
    "            return None\n",
    "        else:\n",
    "            while current:\n",
    "                print(current.value)\n",
    "                current=current.next"
   ]
  },
  {
   "cell_type": "code",
   "execution_count": null,
   "metadata": {},
   "outputs": [],
   "source": []
  },
  {
   "cell_type": "code",
   "execution_count": 260,
   "metadata": {},
   "outputs": [],
   "source": [
    "#4.\n",
    "def isValid(s):\n",
    "    length=len(s)\n",
    "    if length % 2 == 0:\n",
    "        a = Stack()\n",
    "        for i in range(length):\n",
    "            a.push(s[i]) \n",
    "        current=a.first\n",
    "        nextnode=a.first.next\n",
    "\n",
    "\n",
    "        while length > 0:\n",
    "            if (current.value == '}' and nextnode.value == \"{\") or (current.value == ']' and nextnode.value == \"[\") or (current.value == ')' and nextnode.value == \"(\"):\n",
    "                current=nextnode.next\n",
    "                if current is not None:\n",
    "                    nextnode=current.next\n",
    "                    length-=2\n",
    "                else:\n",
    "                    return True\n",
    "            else:\n",
    "                return False\n",
    "\n",
    "    else:\n",
    "        return False\n"
   ]
  },
  {
   "attachments": {},
   "cell_type": "markdown",
   "metadata": {},
   "source": [
    "# Binary Search Trees"
   ]
  },
  {
   "attachments": {},
   "cell_type": "markdown",
   "metadata": {},
   "source": [
    "1.\n",
    "Tree 1: Binary Tree. Node 8 has right child node 6 which is smaller than 8. It's not a binary search tree."
   ]
  },
  {
   "attachments": {},
   "cell_type": "markdown",
   "metadata": {},
   "source": [
    "Tree 2: Binary Tree. Node 3 left child node is greater than 3."
   ]
  },
  {
   "attachments": {},
   "cell_type": "markdown",
   "metadata": {},
   "source": [
    "Tree 3: Tree. Root node has three child nodes, so it's not a binary tree."
   ]
  },
  {
   "attachments": {},
   "cell_type": "markdown",
   "metadata": {},
   "source": [
    "Tree 4: Binary Search Tree. Each parent node has at most two child nodes and left child node is smaller than its parent node, right child node is greater than its parent node."
   ]
  },
  {
   "attachments": {},
   "cell_type": "markdown",
   "metadata": {},
   "source": [
    "Tree 5: Not applicable. There is more than one root node."
   ]
  },
  {
   "attachments": {},
   "cell_type": "markdown",
   "metadata": {},
   "source": [
    "Tree 6：Not applicable. Node 2 and node 8 don't have a parent node. node 9 has more than one parent node."
   ]
  },
  {
   "cell_type": "code",
   "execution_count": 67,
   "metadata": {},
   "outputs": [],
   "source": [
    "# 2\n",
    "class Node:\n",
    "    def __init__(self,value):\n",
    "        self.value=value\n",
    "        self.left=None\n",
    "        self.right=None\n",
    "\n",
    "class BinarySearchTree:\n",
    "    def __init__(self):\n",
    "        self.root=None\n",
    "\n",
    "    def insert(self,val):\n",
    "        newnode=Node(val)\n",
    "        if not self.root:\n",
    "            self.root=newnode\n",
    "            return self\n",
    "        current = self.root\n",
    "        while True:\n",
    "            if val == current.value:\n",
    "                return None\n",
    "            if val < current.value:\n",
    "                if not current.left:\n",
    "                    current.left = newnode\n",
    "                    return self\n",
    "                \n",
    "                current=current.left\n",
    "            else:\n",
    "                if not current.right:\n",
    "                    current.right=newnode\n",
    "                    return self\n",
    "                current=current.right\n",
    "    \n",
    "    def find(self,val):\n",
    "        if not self.root:\n",
    "            return False\n",
    "        \n",
    "        current = self.root\n",
    "      \n",
    "\n",
    "        while(current):\n",
    "            if val < current.value:\n",
    "                current = current.left\n",
    "            elif val > current.value:\n",
    "                current=current.right\n",
    "            else:\n",
    "                return current\n",
    "        \n",
    "        return None\n",
    "        \n",
    "        \n",
    "    def contains(self, val):\n",
    "        if not self.root:\n",
    "            return False\n",
    "        \n",
    "        current = self.root\n",
    "      \n",
    "\n",
    "        while(current):\n",
    "            if val < current.value:\n",
    "                current = current.left\n",
    "            elif val > current.value:\n",
    "                current=current.right\n",
    "            else:\n",
    "                return True\n",
    "        \n",
    "        return False\n",
    "\n",
    "    def remove(self,val):\n",
    "\n",
    "        if not self.root:\n",
    "            return False\n",
    "        \n",
    "        current = self.root\n",
    "        parent = None\n",
    "\n",
    "        while(current):\n",
    "            if val < current.value:\n",
    "                parent = current\n",
    "                current = current.left\n",
    "            elif val > current.value:\n",
    "                parent = current\n",
    "                current=current.right\n",
    "            else:\n",
    "                current=None\n",
    "                if val < parent.value:\n",
    "                    parent.left = None\n",
    "                else:\n",
    "                    parent.right = None\n",
    "\n",
    "\n",
    "        return None\n",
    "        \n",
    "\n"
   ]
  }
 ],
 "metadata": {
  "kernelspec": {
   "display_name": "Python 3 (ipykernel)",
   "language": "python",
   "name": "python3"
  },
  "language_info": {
   "codemirror_mode": {
    "name": "ipython",
    "version": 3
   },
   "file_extension": ".py",
   "mimetype": "text/x-python",
   "name": "python",
   "nbconvert_exporter": "python",
   "pygments_lexer": "ipython3",
   "version": "3.10.9"
  },
  "vscode": {
   "interpreter": {
    "hash": "aee8b7b246df8f9039afb4144a1f6fd8d2ca17a180786b69acc140d282b71a49"
   }
  }
 },
 "nbformat": 4,
 "nbformat_minor": 4
}
