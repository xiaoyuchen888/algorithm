{
 "cells": [
  {
   "attachments": {},
   "cell_type": "markdown",
   "metadata": {},
   "source": [
    "# Challenge 1"
   ]
  },
  {
   "cell_type": "code",
   "execution_count": 320,
   "metadata": {},
   "outputs": [],
   "source": [
    "# Binary Search Tree\n",
    "class Node:\n",
    "    def __init__(self,value):\n",
    "        self.value=value\n",
    "        self.left=None\n",
    "        self.right=None\n",
    "\n",
    "class BinarySearchTree:\n",
    "    def __init__(self):\n",
    "        self.root=None\n",
    "\n",
    "    def insert(self,val):\n",
    "        newnode=Node(val)\n",
    "        if not self.root:\n",
    "            self.root=newnode\n",
    "            return self\n",
    "        current = self.root\n",
    "        while True:\n",
    "            if val == current.value:\n",
    "                return None\n",
    "            if val < current.value:\n",
    "                if not current.left:\n",
    "                    current.left = newnode\n",
    "                    return self\n",
    "                \n",
    "                current=current.left\n",
    "            else:\n",
    "                if not current.right:\n",
    "                    current.right=newnode\n",
    "                    return self\n",
    "                current=current.right\n",
    "    \n",
    "    def find(self,val):\n",
    "        if not self.root:\n",
    "            return False\n",
    "        \n",
    "        current = self.root\n",
    "      \n",
    "\n",
    "        while(current):\n",
    "            if val < current.value:\n",
    "                current = current.left\n",
    "            elif val > current.value:\n",
    "                current=current.right\n",
    "            else:\n",
    "                return current\n",
    "        \n",
    "        return None\n",
    "        \n",
    "        \n",
    "    def contains(self, val):\n",
    "        if not self.root:\n",
    "            return False\n",
    "        \n",
    "        current = self.root\n",
    "      \n",
    "\n",
    "        while(current):\n",
    "            if val < current.value:\n",
    "                current = current.left\n",
    "            elif val > current.value:\n",
    "                current=current.right\n",
    "            else:\n",
    "                return True\n",
    "        \n",
    "        return False\n",
    "\n",
    "    def remove(self,val):\n",
    "\n",
    "        if not self.root:\n",
    "            return False\n",
    "        \n",
    "        current = self.root\n",
    "        parent = None\n",
    "\n",
    "        while(current):\n",
    "            if val < current.value:\n",
    "                parent = current\n",
    "                current = current.left\n",
    "            elif val > current.value:\n",
    "                parent = current\n",
    "                current=current.right\n",
    "            else:\n",
    "                current=None\n",
    "                if val < parent.value:\n",
    "                    parent.left = None\n",
    "                else:\n",
    "                    parent.right = None\n",
    "\n",
    "\n",
    "        return None\n",
    "# Challenge 1    \n",
    "    def countLeafsBFS(self):\n",
    "        node=self.root\n",
    "        data = []\n",
    "        queue = []\n",
    "        list =[]\n",
    "\n",
    "        queue.append(node)\n",
    "\n",
    "        while(len(queue)):\n",
    "\n",
    "            node=queue.pop(0)\n",
    "            data.append(node.value)\n",
    "            \n",
    "            child = 0\n",
    "            if node.left:\n",
    "                queue.append(node.left)\n",
    "                child +=1\n",
    "            if node.right:\n",
    "                queue.append(node.right)\n",
    "                child += 1\n",
    "            \n",
    "            list.append(child)\n",
    "        \n",
    "        for i in range(len(list)):\n",
    "            if list[-(i+1)] != 0:\n",
    "                return len(list[-i:])\n",
    "\n",
    "        return data\n",
    "    \n",
    "    def countLeafsDFS(self):\n",
    "        data =[]\n",
    "        list = []\n",
    "\n",
    "        def traverse(node,child):\n",
    "             \n",
    "            if node.left:\n",
    "                traverse(node.left,child+1)\n",
    "                \n",
    "                \n",
    "               \n",
    "            if node.right:\n",
    "                traverse(node.right,child+1)\n",
    "\n",
    "            list.append(child)\n",
    "\n",
    "\n",
    "        traverse(self.root,0)\n",
    "        return list.count(max(list))\n",
    "# Challenge 2\n",
    "    def countOdds(self):\n",
    "        data =[]\n",
    "        def traverse(node):\n",
    "            if node.value % 2 == 1:\n",
    "                data.append(node.value)\n",
    "            if node.left:\n",
    "                traverse(node.left)\n",
    "            if node.right:\n",
    "                traverse(node.right)\n",
    "        \n",
    "        traverse(self.root)\n",
    "        data.sort()\n",
    "        return data, len(data)\n",
    "# Challenge 3   \n",
    "    def same(self,tree2):\n",
    "        data1 =[]\n",
    "        data2 =[]\n",
    "        def traverse(node,data):\n",
    "            \n",
    "            data.append(node.value)\n",
    "            \n",
    "            if node.left:\n",
    "                traverse(node.left,data)\n",
    "            if node.right:\n",
    "                traverse(node.right,data)\n",
    "            \n",
    "        traverse(self.root,data1) \n",
    "        traverse(tree2.root,data2)\n",
    "        \n",
    "        if data1 != data2:\n",
    "            return False\n",
    "        else:\n",
    "            return True\n"
   ]
  },
  {
   "cell_type": "code",
   "execution_count": 328,
   "metadata": {},
   "outputs": [
    {
     "data": {
      "text/plain": [
       "3"
      ]
     },
     "execution_count": 328,
     "metadata": {},
     "output_type": "execute_result"
    }
   ],
   "source": [
    "tree = BinarySearchTree()\n",
    "tree.insert(8)\n",
    "tree.insert(3)\n",
    "tree.insert(1)\n",
    "tree.insert(6)\n",
    "tree.insert(4)\n",
    "tree.insert(7)\n",
    "tree.insert(10)\n",
    "tree.insert(14)\n",
    "tree.insert(13)\n",
    "tree.countLeafsBFS()\n"
   ]
  },
  {
   "cell_type": "code",
   "execution_count": 329,
   "metadata": {},
   "outputs": [
    {
     "data": {
      "text/plain": [
       "3"
      ]
     },
     "execution_count": 329,
     "metadata": {},
     "output_type": "execute_result"
    }
   ],
   "source": [
    "tree.countLeafsDFS()\n"
   ]
  },
  {
   "cell_type": "code",
   "execution_count": 330,
   "metadata": {},
   "outputs": [
    {
     "data": {
      "text/plain": [
       "([1, 3, 7, 13], 4)"
      ]
     },
     "execution_count": 330,
     "metadata": {},
     "output_type": "execute_result"
    }
   ],
   "source": [
    "tree.countOdds()"
   ]
  },
  {
   "cell_type": "code",
   "execution_count": 322,
   "metadata": {},
   "outputs": [
    {
     "data": {
      "text/plain": [
       "True"
      ]
     },
     "execution_count": 322,
     "metadata": {},
     "output_type": "execute_result"
    }
   ],
   "source": [
    "tree = BinarySearchTree()\n",
    "tree2 = BinarySearchTree()\n",
    "tree.insert(8)\n",
    "tree.insert(3)\n",
    "tree.insert(1)\n",
    "tree2.insert(8)\n",
    "tree2.insert(3)\n",
    "tree2.insert(1)\n",
    "tree.same(tree2)"
   ]
  }
 ],
 "metadata": {
  "kernelspec": {
   "display_name": "Python 3",
   "language": "python",
   "name": "python3"
  },
  "language_info": {
   "codemirror_mode": {
    "name": "ipython",
    "version": 3
   },
   "file_extension": ".py",
   "mimetype": "text/x-python",
   "name": "python",
   "nbconvert_exporter": "python",
   "pygments_lexer": "ipython3",
   "version": "3.10.9"
  },
  "orig_nbformat": 4,
  "vscode": {
   "interpreter": {
    "hash": "aee8b7b246df8f9039afb4144a1f6fd8d2ca17a180786b69acc140d282b71a49"
   }
  }
 },
 "nbformat": 4,
 "nbformat_minor": 2
}
